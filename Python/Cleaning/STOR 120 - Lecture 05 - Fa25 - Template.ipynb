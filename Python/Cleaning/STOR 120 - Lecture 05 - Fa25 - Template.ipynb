{
 "cells": [
  {
   "cell_type": "markdown",
   "metadata": {},
   "source": [
    "# STOR 120: Class 5 - Building Tables for Visualization"
   ]
  },
  {
   "cell_type": "code",
   "execution_count": 28,
   "metadata": {},
   "outputs": [],
   "source": [
    "from datascience import *\n",
    "import numpy as np\n",
    "\n",
    "%matplotlib inline\n",
    "import matplotlib.pyplot as plots\n",
    "plots.style.use('fivethirtyeight')"
   ]
  },
  {
   "cell_type": "markdown",
   "metadata": {},
   "source": [
    "### Minard"
   ]
  },
  {
   "cell_type": "code",
   "execution_count": 2,
   "metadata": {},
   "outputs": [
    {
     "data": {
      "text/html": [
       "<table border=\"1\" class=\"dataframe\">\n",
       "    <thead>\n",
       "        <tr>\n",
       "            <th>Longitude</th> <th>Latitude</th> <th>City</th> <th>Direction</th> <th>Survivors</th>\n",
       "        </tr>\n",
       "    </thead>\n",
       "    <tbody>\n",
       "        <tr>\n",
       "            <td>24       </td> <td>54.9    </td> <td>Kaunas     </td> <td>Advance  </td> <td>340000   </td>\n",
       "        </tr>\n",
       "        <tr>\n",
       "            <td>30.2     </td> <td>55.2    </td> <td>Vitebsk    </td> <td>Advance  </td> <td>175000   </td>\n",
       "        </tr>\n",
       "        <tr>\n",
       "            <td>32       </td> <td>54.8    </td> <td>Smolensk   </td> <td>Advance  </td> <td>145000   </td>\n",
       "        </tr>\n",
       "        <tr>\n",
       "            <td>37.6     </td> <td>55.8    </td> <td>Moscow     </td> <td>Advance  </td> <td>100000   </td>\n",
       "        </tr>\n",
       "        <tr>\n",
       "            <td>34.3     </td> <td>55.2    </td> <td>Vyazma     </td> <td>Retreat  </td> <td>55000    </td>\n",
       "        </tr>\n",
       "        <tr>\n",
       "            <td>32       </td> <td>54.6    </td> <td>Smolensk   </td> <td>Retreat  </td> <td>24000    </td>\n",
       "        </tr>\n",
       "        <tr>\n",
       "            <td>30.4     </td> <td>54.4    </td> <td>Orsha      </td> <td>Retreat  </td> <td>20000    </td>\n",
       "        </tr>\n",
       "        <tr>\n",
       "            <td>26.8     </td> <td>54.3    </td> <td>Maladyechna</td> <td>Retreat  </td> <td>12000    </td>\n",
       "        </tr>\n",
       "        <tr>\n",
       "            <td>24.1     </td> <td>54.4    </td> <td>Kaunas     </td> <td>Retreat  </td> <td>4000     </td>\n",
       "        </tr>\n",
       "    </tbody>\n",
       "</table>"
      ],
      "text/plain": [
       "Longitude | Latitude | City        | Direction | Survivors\n",
       "24        | 54.9     | Kaunas      | Advance   | 340000\n",
       "30.2      | 55.2     | Vitebsk     | Advance   | 175000\n",
       "32        | 54.8     | Smolensk    | Advance   | 145000\n",
       "37.6      | 55.8     | Moscow      | Advance   | 100000\n",
       "34.3      | 55.2     | Vyazma      | Retreat   | 55000\n",
       "32        | 54.6     | Smolensk    | Retreat   | 24000\n",
       "30.4      | 54.4     | Orsha       | Retreat   | 20000\n",
       "26.8      | 54.3     | Maladyechna | Retreat   | 12000\n",
       "24.1      | 54.4     | Kaunas      | Retreat   | 4000"
      ]
     },
     "execution_count": 2,
     "metadata": {},
     "output_type": "execute_result"
    }
   ],
   "source": [
    "minard = Table.read_table('minard.csv')\n",
    "minard"
   ]
  },
  {
   "cell_type": "markdown",
   "metadata": {},
   "source": [
    "What percentage of Napoleon’s troops were still alive in each city of the advance and retreat?\n"
   ]
  },
  {
   "cell_type": "code",
   "execution_count": 3,
   "metadata": {},
   "outputs": [
    {
     "data": {
      "text/plain": [
       "340000"
      ]
     },
     "execution_count": 3,
     "metadata": {},
     "output_type": "execute_result"
    }
   ],
   "source": [
    "minard.column(\"Survivors\").item(0)"
   ]
  },
  {
   "cell_type": "code",
   "execution_count": 4,
   "metadata": {},
   "outputs": [
    {
     "data": {
      "text/plain": [
       "array([ 1.        ,  0.51470588,  0.42647059,  0.29411765,  0.16176471,\n",
       "        0.07058824,  0.05882353,  0.03529412,  0.01176471])"
      ]
     },
     "execution_count": 4,
     "metadata": {},
     "output_type": "execute_result"
    }
   ],
   "source": [
    "minard.column(\"Survivors\")/minard.column(\"Survivors\").item(0)"
   ]
  },
  {
   "cell_type": "code",
   "execution_count": 5,
   "metadata": {},
   "outputs": [
    {
     "data": {
      "text/html": [
       "<table border=\"1\" class=\"dataframe\">\n",
       "    <thead>\n",
       "        <tr>\n",
       "            <th>Longitude</th> <th>Latitude</th> <th>City</th> <th>Direction</th> <th>Survivors</th> <th>Pct Alive</th>\n",
       "        </tr>\n",
       "    </thead>\n",
       "    <tbody>\n",
       "        <tr>\n",
       "            <td>24       </td> <td>54.9    </td> <td>Kaunas     </td> <td>Advance  </td> <td>340000   </td> <td>1        </td>\n",
       "        </tr>\n",
       "        <tr>\n",
       "            <td>30.2     </td> <td>55.2    </td> <td>Vitebsk    </td> <td>Advance  </td> <td>175000   </td> <td>0.514706 </td>\n",
       "        </tr>\n",
       "        <tr>\n",
       "            <td>32       </td> <td>54.8    </td> <td>Smolensk   </td> <td>Advance  </td> <td>145000   </td> <td>0.426471 </td>\n",
       "        </tr>\n",
       "        <tr>\n",
       "            <td>37.6     </td> <td>55.8    </td> <td>Moscow     </td> <td>Advance  </td> <td>100000   </td> <td>0.294118 </td>\n",
       "        </tr>\n",
       "        <tr>\n",
       "            <td>34.3     </td> <td>55.2    </td> <td>Vyazma     </td> <td>Retreat  </td> <td>55000    </td> <td>0.161765 </td>\n",
       "        </tr>\n",
       "        <tr>\n",
       "            <td>32       </td> <td>54.6    </td> <td>Smolensk   </td> <td>Retreat  </td> <td>24000    </td> <td>0.0705882</td>\n",
       "        </tr>\n",
       "        <tr>\n",
       "            <td>30.4     </td> <td>54.4    </td> <td>Orsha      </td> <td>Retreat  </td> <td>20000    </td> <td>0.0588235</td>\n",
       "        </tr>\n",
       "        <tr>\n",
       "            <td>26.8     </td> <td>54.3    </td> <td>Maladyechna</td> <td>Retreat  </td> <td>12000    </td> <td>0.0352941</td>\n",
       "        </tr>\n",
       "        <tr>\n",
       "            <td>24.1     </td> <td>54.4    </td> <td>Kaunas     </td> <td>Retreat  </td> <td>4000     </td> <td>0.0117647</td>\n",
       "        </tr>\n",
       "    </tbody>\n",
       "</table>"
      ],
      "text/plain": [
       "Longitude | Latitude | City        | Direction | Survivors | Pct Alive\n",
       "24        | 54.9     | Kaunas      | Advance   | 340000    | 1\n",
       "30.2      | 55.2     | Vitebsk     | Advance   | 175000    | 0.514706\n",
       "32        | 54.8     | Smolensk    | Advance   | 145000    | 0.426471\n",
       "37.6      | 55.8     | Moscow      | Advance   | 100000    | 0.294118\n",
       "34.3      | 55.2     | Vyazma      | Retreat   | 55000     | 0.161765\n",
       "32        | 54.6     | Smolensk    | Retreat   | 24000     | 0.0705882\n",
       "30.4      | 54.4     | Orsha       | Retreat   | 20000     | 0.0588235\n",
       "26.8      | 54.3     | Maladyechna | Retreat   | 12000     | 0.0352941\n",
       "24.1      | 54.4     | Kaunas      | Retreat   | 4000      | 0.0117647"
      ]
     },
     "execution_count": 5,
     "metadata": {},
     "output_type": "execute_result"
    }
   ],
   "source": [
    "minard = minard.with_column(\n",
    "    'Pct Alive',\n",
    "    minard.column(\"Survivors\")/minard.column(\"Survivors\").item(0)\n",
    ")\n",
    "minard"
   ]
  },
  {
   "cell_type": "code",
   "execution_count": 6,
   "metadata": {},
   "outputs": [
    {
     "data": {
      "text/html": [
       "<table border=\"1\" class=\"dataframe\">\n",
       "    <thead>\n",
       "        <tr>\n",
       "            <th>Longitude</th> <th>Latitude</th> <th>City</th> <th>Direction</th> <th>Survivors</th> <th>Pct Alive</th>\n",
       "        </tr>\n",
       "    </thead>\n",
       "    <tbody>\n",
       "        <tr>\n",
       "            <td>24       </td> <td>54.9    </td> <td>Kaunas     </td> <td>Advance  </td> <td>340000   </td> <td>100.00%  </td>\n",
       "        </tr>\n",
       "        <tr>\n",
       "            <td>30.2     </td> <td>55.2    </td> <td>Vitebsk    </td> <td>Advance  </td> <td>175000   </td> <td>51.47%   </td>\n",
       "        </tr>\n",
       "        <tr>\n",
       "            <td>32       </td> <td>54.8    </td> <td>Smolensk   </td> <td>Advance  </td> <td>145000   </td> <td>42.65%   </td>\n",
       "        </tr>\n",
       "        <tr>\n",
       "            <td>37.6     </td> <td>55.8    </td> <td>Moscow     </td> <td>Advance  </td> <td>100000   </td> <td>29.41%   </td>\n",
       "        </tr>\n",
       "        <tr>\n",
       "            <td>34.3     </td> <td>55.2    </td> <td>Vyazma     </td> <td>Retreat  </td> <td>55000    </td> <td>16.18%   </td>\n",
       "        </tr>\n",
       "        <tr>\n",
       "            <td>32       </td> <td>54.6    </td> <td>Smolensk   </td> <td>Retreat  </td> <td>24000    </td> <td>7.06%    </td>\n",
       "        </tr>\n",
       "        <tr>\n",
       "            <td>30.4     </td> <td>54.4    </td> <td>Orsha      </td> <td>Retreat  </td> <td>20000    </td> <td>5.88%    </td>\n",
       "        </tr>\n",
       "        <tr>\n",
       "            <td>26.8     </td> <td>54.3    </td> <td>Maladyechna</td> <td>Retreat  </td> <td>12000    </td> <td>3.53%    </td>\n",
       "        </tr>\n",
       "        <tr>\n",
       "            <td>24.1     </td> <td>54.4    </td> <td>Kaunas     </td> <td>Retreat  </td> <td>4000     </td> <td>1.18%    </td>\n",
       "        </tr>\n",
       "    </tbody>\n",
       "</table>"
      ],
      "text/plain": [
       "Longitude | Latitude | City        | Direction | Survivors | Pct Alive\n",
       "24        | 54.9     | Kaunas      | Advance   | 340000    | 100.00%\n",
       "30.2      | 55.2     | Vitebsk     | Advance   | 175000    | 51.47%\n",
       "32        | 54.8     | Smolensk    | Advance   | 145000    | 42.65%\n",
       "37.6      | 55.8     | Moscow      | Advance   | 100000    | 29.41%\n",
       "34.3      | 55.2     | Vyazma      | Retreat   | 55000     | 16.18%\n",
       "32        | 54.6     | Smolensk    | Retreat   | 24000     | 7.06%\n",
       "30.4      | 54.4     | Orsha       | Retreat   | 20000     | 5.88%\n",
       "26.8      | 54.3     | Maladyechna | Retreat   | 12000     | 3.53%\n",
       "24.1      | 54.4     | Kaunas      | Retreat   | 4000      | 1.18%"
      ]
     },
     "execution_count": 6,
     "metadata": {},
     "output_type": "execute_result"
    }
   ],
   "source": [
    "minard.set_format('Pct Alive', PercentFormatter) #changes num value of a column to percent "
   ]
  },
  {
   "cell_type": "code",
   "execution_count": 7,
   "metadata": {},
   "outputs": [
    {
     "data": {
      "text/plain": [
       "array([ 1.        ,  0.51470588,  0.42647059,  0.29411765,  0.16176471,\n",
       "        0.07058824,  0.05882353,  0.03529412,  0.01176471])"
      ]
     },
     "execution_count": 7,
     "metadata": {},
     "output_type": "execute_result"
    }
   ],
   "source": [
    "minard.set_format('Pct Alive', PercentFormatter).column('Pct Alive') #the column is still is proportion, just displayed differently"
   ]
  },
  {
   "cell_type": "markdown",
   "metadata": {},
   "source": [
    "## Table Review: Sleep Study"
   ]
  },
  {
   "cell_type": "code",
   "execution_count": 8,
   "metadata": {},
   "outputs": [
    {
     "data": {
      "text/html": [
       "<table border=\"1\" class=\"dataframe\">\n",
       "    <thead>\n",
       "        <tr>\n",
       "            <th>Gender</th> <th>ClassYear</th> <th>LarkOwl</th> <th>NumEarlyClass</th> <th>EarlyClass</th> <th>GPA</th> <th>ClassesMissed</th> <th>CognitionZscore</th> <th>PoorSleepQuality</th> <th>DepressionScore</th> <th>AnxietyScore</th> <th>StressScore</th> <th>DepressionStatus</th> <th>AnxietyStatus</th> <th>Stress</th> <th>DASScore</th> <th>Happiness</th> <th>AlcoholUse</th> <th>Drinks</th> <th>WeekdayBed</th> <th>WeekdayRise</th> <th>WeekdaySleep</th> <th>WeekendBed</th> <th>WeekendRise</th> <th>WeekendSleep</th> <th>AverageSleep</th> <th>AllNighter</th>\n",
       "        </tr>\n",
       "    </thead>\n",
       "    <tbody>\n",
       "        <tr>\n",
       "            <td>0     </td> <td>4        </td> <td>Neither</td> <td>0            </td> <td>0         </td> <td>3.6 </td> <td>0            </td> <td>-0.26          </td> <td>4               </td> <td>4              </td> <td>3           </td> <td>8          </td> <td>normal          </td> <td>normal       </td> <td>normal</td> <td>15      </td> <td>28       </td> <td>Moderate  </td> <td>10    </td> <td>25.75     </td> <td>8.7        </td> <td>7.7         </td> <td>25.75     </td> <td>9.5        </td> <td>5.88        </td> <td>7.18        </td> <td>0         </td>\n",
       "        </tr>\n",
       "        <tr>\n",
       "            <td>0     </td> <td>4        </td> <td>Neither</td> <td>2            </td> <td>1         </td> <td>3.24</td> <td>0            </td> <td>1.39           </td> <td>6               </td> <td>1              </td> <td>0           </td> <td>3          </td> <td>normal          </td> <td>normal       </td> <td>normal</td> <td>4       </td> <td>25       </td> <td>Moderate  </td> <td>6     </td> <td>25.7      </td> <td>8.2        </td> <td>6.8         </td> <td>26        </td> <td>10         </td> <td>7.25        </td> <td>6.93        </td> <td>0         </td>\n",
       "        </tr>\n",
       "        <tr>\n",
       "            <td>0     </td> <td>4        </td> <td>Owl    </td> <td>0            </td> <td>0         </td> <td>2.97</td> <td>12           </td> <td>0.38           </td> <td>18              </td> <td>18             </td> <td>18          </td> <td>9          </td> <td>moderate        </td> <td>severe       </td> <td>normal</td> <td>45      </td> <td>17       </td> <td>Light     </td> <td>3     </td> <td>27.44     </td> <td>6.55       </td> <td>3           </td> <td>28        </td> <td>12.59      </td> <td>10.09       </td> <td>5.02        </td> <td>0         </td>\n",
       "        </tr>\n",
       "        <tr>\n",
       "            <td>0     </td> <td>1        </td> <td>Lark   </td> <td>5            </td> <td>1         </td> <td>3.76</td> <td>0            </td> <td>1.39           </td> <td>9               </td> <td>1              </td> <td>4           </td> <td>6          </td> <td>normal          </td> <td>normal       </td> <td>normal</td> <td>11      </td> <td>32       </td> <td>Light     </td> <td>2     </td> <td>23.5      </td> <td>7.17       </td> <td>6.77        </td> <td>27        </td> <td>8          </td> <td>7.25        </td> <td>6.9         </td> <td>0         </td>\n",
       "        </tr>\n",
       "        <tr>\n",
       "            <td>0     </td> <td>4        </td> <td>Owl    </td> <td>0            </td> <td>0         </td> <td>3.2 </td> <td>4            </td> <td>1.22           </td> <td>9               </td> <td>7              </td> <td>25          </td> <td>14         </td> <td>normal          </td> <td>severe       </td> <td>normal</td> <td>46      </td> <td>15       </td> <td>Moderate  </td> <td>4     </td> <td>25.9      </td> <td>8.67       </td> <td>6.09        </td> <td>23.75     </td> <td>9.5        </td> <td>7           </td> <td>6.35        </td> <td>0         </td>\n",
       "        </tr>\n",
       "    </tbody>\n",
       "</table>\n",
       "<p>... (248 rows omitted)</p>"
      ],
      "text/plain": [
       "<IPython.core.display.HTML object>"
      ]
     },
     "metadata": {},
     "output_type": "display_data"
    }
   ],
   "source": [
    "sleep = Table.read_table('SleepStudy.csv')\n",
    "sleep.show(5) #shows first five rows"
   ]
  },
  {
   "cell_type": "code",
   "execution_count": 9,
   "metadata": {},
   "outputs": [
    {
     "data": {
      "text/html": [
       "<table border=\"1\" class=\"dataframe\">\n",
       "    <thead>\n",
       "        <tr>\n",
       "            <th>Gender</th> <th>ClassYear</th> <th>LarkOwl</th> <th>NumEarlyClass</th> <th>EarlyClass</th> <th>GPA</th> <th>ClassesMissed</th> <th>CognitionZscore</th> <th>PoorSleepQuality</th> <th>DepressionScore</th> <th>AnxietyScore</th> <th>StressScore</th> <th>DepressionStatus</th> <th>AnxietyStatus</th> <th>Stress</th> <th>DASScore</th> <th>Happiness</th> <th>AlcoholUse</th> <th>Drinks</th> <th>WeekdayBed</th> <th>WeekdayRise</th> <th>WeekdaySleep</th> <th>WeekendBed</th> <th>WeekendRise</th> <th>WeekendSleep</th> <th>AverageSleep</th> <th>AllNighter</th>\n",
       "        </tr>\n",
       "    </thead>\n",
       "    <tbody>\n",
       "        <tr>\n",
       "            <td>0     </td> <td>4        </td> <td>Neither</td> <td>0            </td> <td>0         </td> <td>3.6 </td> <td>0            </td> <td>-0.26          </td> <td>4               </td> <td>4              </td> <td>3           </td> <td>8          </td> <td>normal          </td> <td>normal       </td> <td>normal</td> <td>15      </td> <td>28       </td> <td>Moderate  </td> <td>10    </td> <td>25.75     </td> <td>8.7        </td> <td>7.7         </td> <td>25.75     </td> <td>9.5        </td> <td>5.88        </td> <td>7.18        </td> <td>0         </td>\n",
       "        </tr>\n",
       "        <tr>\n",
       "            <td>0     </td> <td>4        </td> <td>Neither</td> <td>2            </td> <td>1         </td> <td>3.24</td> <td>0            </td> <td>1.39           </td> <td>6               </td> <td>1              </td> <td>0           </td> <td>3          </td> <td>normal          </td> <td>normal       </td> <td>normal</td> <td>4       </td> <td>25       </td> <td>Moderate  </td> <td>6     </td> <td>25.7      </td> <td>8.2        </td> <td>6.8         </td> <td>26        </td> <td>10         </td> <td>7.25        </td> <td>6.93        </td> <td>0         </td>\n",
       "        </tr>\n",
       "        <tr>\n",
       "            <td>0     </td> <td>4        </td> <td>Owl    </td> <td>0            </td> <td>0         </td> <td>2.97</td> <td>12           </td> <td>0.38           </td> <td>18              </td> <td>18             </td> <td>18          </td> <td>9          </td> <td>moderate        </td> <td>severe       </td> <td>normal</td> <td>45      </td> <td>17       </td> <td>Light     </td> <td>3     </td> <td>27.44     </td> <td>6.55       </td> <td>3           </td> <td>28        </td> <td>12.59      </td> <td>10.09       </td> <td>5.02        </td> <td>0         </td>\n",
       "        </tr>\n",
       "        <tr>\n",
       "            <td>0     </td> <td>4        </td> <td>Owl    </td> <td>0            </td> <td>0         </td> <td>3.2 </td> <td>4            </td> <td>1.22           </td> <td>9               </td> <td>7              </td> <td>25          </td> <td>14         </td> <td>normal          </td> <td>severe       </td> <td>normal</td> <td>46      </td> <td>15       </td> <td>Moderate  </td> <td>4     </td> <td>25.9      </td> <td>8.67       </td> <td>6.09        </td> <td>23.75     </td> <td>9.5        </td> <td>7           </td> <td>6.35        </td> <td>0         </td>\n",
       "        </tr>\n",
       "        <tr>\n",
       "            <td>1     </td> <td>4        </td> <td>Neither</td> <td>0            </td> <td>0         </td> <td>3.5 </td> <td>0            </td> <td>-0.04          </td> <td>6               </td> <td>14             </td> <td>8           </td> <td>28         </td> <td>moderate        </td> <td>moderate     </td> <td>high  </td> <td>50      </td> <td>22       </td> <td>Abstain   </td> <td>0     </td> <td>23.8      </td> <td>8.95       </td> <td>9.05        </td> <td>26        </td> <td>10.75      </td> <td>9           </td> <td>9.04        </td> <td>0         </td>\n",
       "        </tr>\n",
       "        <tr>\n",
       "            <td>0     </td> <td>4        </td> <td>Neither</td> <td>2            </td> <td>1         </td> <td>2.9 </td> <td>0            </td> <td>0.72           </td> <td>2               </td> <td>6              </td> <td>11          </td> <td>31         </td> <td>normal          </td> <td>moderate     </td> <td>high  </td> <td>48      </td> <td>30       </td> <td>Moderate  </td> <td>6     </td> <td>26.2      </td> <td>8          </td> <td>6.6         </td> <td>25.38     </td> <td>10.25      </td> <td>6.88        </td> <td>6.68        </td> <td>0         </td>\n",
       "        </tr>\n",
       "        <tr>\n",
       "            <td>0     </td> <td>4        </td> <td>Neither</td> <td>2            </td> <td>1         </td> <td>2.9 </td> <td>0            </td> <td>-0.04          </td> <td>8               </td> <td>18             </td> <td>12          </td> <td>26         </td> <td>moderate        </td> <td>moderate     </td> <td>high  </td> <td>56      </td> <td>17       </td> <td>Moderate  </td> <td>5     </td> <td>24.4      </td> <td>8.6        </td> <td>8.4         </td> <td>25.5      </td> <td>11         </td> <td>9           </td> <td>8.57        </td> <td>0         </td>\n",
       "        </tr>\n",
       "        <tr>\n",
       "            <td>0     </td> <td>4        </td> <td>Neither</td> <td>2            </td> <td>1         </td> <td>3.4 </td> <td>3            </td> <td>0.78           </td> <td>9               </td> <td>4              </td> <td>5           </td> <td>9          </td> <td>normal          </td> <td>normal       </td> <td>normal</td> <td>18      </td> <td>27       </td> <td>Light     </td> <td>3     </td> <td>23.9      </td> <td>7.8        </td> <td>8           </td> <td>25.25     </td> <td>10         </td> <td>7           </td> <td>7.71        </td> <td>0         </td>\n",
       "        </tr>\n",
       "        <tr>\n",
       "            <td>0     </td> <td>4        </td> <td>Neither</td> <td>2            </td> <td>1         </td> <td>3   </td> <td>2            </td> <td>-0.86          </td> <td>6               </td> <td>7              </td> <td>8           </td> <td>14         </td> <td>normal          </td> <td>moderate     </td> <td>normal</td> <td>29      </td> <td>25       </td> <td>Moderate  </td> <td>5     </td> <td>25        </td> <td>8.6        </td> <td>8.1         </td> <td>25.5      </td> <td>8.5        </td> <td>5.75        </td> <td>7.43        </td> <td>0         </td>\n",
       "        </tr>\n",
       "        <tr>\n",
       "            <td>0     </td> <td>4        </td> <td>Neither</td> <td>3            </td> <td>1         </td> <td>2.8 </td> <td>0            </td> <td>-1.27          </td> <td>3               </td> <td>4              </td> <td>1           </td> <td>2          </td> <td>normal          </td> <td>normal       </td> <td>normal</td> <td>7       </td> <td>18       </td> <td>Light     </td> <td>6     </td> <td>23.8      </td> <td>8.1        </td> <td>8.4         </td> <td>25.25     </td> <td>10.75      </td> <td>9.25        </td> <td>8.64        </td> <td>0         </td>\n",
       "        </tr>\n",
       "    </tbody>\n",
       "</table>\n",
       "<p>... (47 rows omitted)</p>"
      ],
      "text/plain": [
       "Gender | ClassYear | LarkOwl | NumEarlyClass | EarlyClass | GPA  | ClassesMissed | CognitionZscore | PoorSleepQuality | DepressionScore | AnxietyScore | StressScore | DepressionStatus | AnxietyStatus | Stress | DASScore | Happiness | AlcoholUse | Drinks | WeekdayBed | WeekdayRise | WeekdaySleep | WeekendBed | WeekendRise | WeekendSleep | AverageSleep | AllNighter\n",
       "0      | 4         | Neither | 0             | 0          | 3.6  | 0             | -0.26           | 4                | 4               | 3            | 8           | normal           | normal        | normal | 15       | 28        | Moderate   | 10     | 25.75      | 8.7         | 7.7          | 25.75      | 9.5         | 5.88         | 7.18         | 0\n",
       "0      | 4         | Neither | 2             | 1          | 3.24 | 0             | 1.39            | 6                | 1               | 0            | 3           | normal           | normal        | normal | 4        | 25        | Moderate   | 6      | 25.7       | 8.2         | 6.8          | 26         | 10          | 7.25         | 6.93         | 0\n",
       "0      | 4         | Owl     | 0             | 0          | 2.97 | 12            | 0.38            | 18               | 18              | 18           | 9           | moderate         | severe        | normal | 45       | 17        | Light      | 3      | 27.44      | 6.55        | 3            | 28         | 12.59       | 10.09        | 5.02         | 0\n",
       "0      | 4         | Owl     | 0             | 0          | 3.2  | 4             | 1.22            | 9                | 7               | 25           | 14          | normal           | severe        | normal | 46       | 15        | Moderate   | 4      | 25.9       | 8.67        | 6.09         | 23.75      | 9.5         | 7            | 6.35         | 0\n",
       "1      | 4         | Neither | 0             | 0          | 3.5  | 0             | -0.04           | 6                | 14              | 8            | 28          | moderate         | moderate      | high   | 50       | 22        | Abstain    | 0      | 23.8       | 8.95        | 9.05         | 26         | 10.75       | 9            | 9.04         | 0\n",
       "0      | 4         | Neither | 2             | 1          | 2.9  | 0             | 0.72            | 2                | 6               | 11           | 31          | normal           | moderate      | high   | 48       | 30        | Moderate   | 6      | 26.2       | 8           | 6.6          | 25.38      | 10.25       | 6.88         | 6.68         | 0\n",
       "0      | 4         | Neither | 2             | 1          | 2.9  | 0             | -0.04           | 8                | 18              | 12           | 26          | moderate         | moderate      | high   | 56       | 17        | Moderate   | 5      | 24.4       | 8.6         | 8.4          | 25.5       | 11          | 9            | 8.57         | 0\n",
       "0      | 4         | Neither | 2             | 1          | 3.4  | 3             | 0.78            | 9                | 4               | 5            | 9           | normal           | normal        | normal | 18       | 27        | Light      | 3      | 23.9       | 7.8         | 8            | 25.25      | 10          | 7            | 7.71         | 0\n",
       "0      | 4         | Neither | 2             | 1          | 3    | 2             | -0.86           | 6                | 7               | 8            | 14          | normal           | moderate      | normal | 29       | 25        | Moderate   | 5      | 25         | 8.6         | 8.1          | 25.5       | 8.5         | 5.75         | 7.43         | 0\n",
       "0      | 4         | Neither | 3             | 1          | 2.8  | 0             | -1.27           | 3                | 4               | 1            | 2           | normal           | normal        | normal | 7        | 18        | Light      | 6      | 23.8       | 8.1         | 8.4          | 25.25      | 10.75       | 9.25         | 8.64         | 0\n",
       "... (47 rows omitted)"
      ]
     },
     "execution_count": 9,
     "metadata": {},
     "output_type": "execute_result"
    }
   ],
   "source": [
    "# Create a table with only 4th year students\n",
    "sleep.where('ClassYear', 4)"
   ]
  },
  {
   "cell_type": "code",
   "execution_count": 10,
   "metadata": {},
   "outputs": [
    {
     "data": {
      "text/html": [
       "<table border=\"1\" class=\"dataframe\">\n",
       "    <thead>\n",
       "        <tr>\n",
       "            <th>Gender</th> <th>ClassYear</th> <th>LarkOwl</th> <th>NumEarlyClass</th> <th>EarlyClass</th> <th>GPA</th> <th>ClassesMissed</th> <th>CognitionZscore</th> <th>PoorSleepQuality</th> <th>DepressionScore</th> <th>AnxietyScore</th> <th>StressScore</th> <th>DepressionStatus</th> <th>AnxietyStatus</th> <th>Stress</th> <th>DASScore</th> <th>Happiness</th> <th>AlcoholUse</th> <th>Drinks</th> <th>WeekdayBed</th> <th>WeekdayRise</th> <th>WeekdaySleep</th> <th>WeekendBed</th> <th>WeekendRise</th> <th>WeekendSleep</th> <th>AverageSleep</th> <th>AllNighter</th>\n",
       "        </tr>\n",
       "    </thead>\n",
       "    <tbody>\n",
       "        <tr>\n",
       "            <td>0     </td> <td>4        </td> <td>Neither</td> <td>0            </td> <td>0         </td> <td>3.6 </td> <td>0            </td> <td>-0.26          </td> <td>4               </td> <td>4              </td> <td>3           </td> <td>8          </td> <td>normal          </td> <td>normal       </td> <td>normal</td> <td>15      </td> <td>28       </td> <td>Moderate  </td> <td>10    </td> <td>25.75     </td> <td>8.7        </td> <td>7.7         </td> <td>25.75     </td> <td>9.5        </td> <td>5.88        </td> <td>7.18        </td> <td>0         </td>\n",
       "        </tr>\n",
       "        <tr>\n",
       "            <td>0     </td> <td>4        </td> <td>Neither</td> <td>2            </td> <td>1         </td> <td>3.24</td> <td>0            </td> <td>1.39           </td> <td>6               </td> <td>1              </td> <td>0           </td> <td>3          </td> <td>normal          </td> <td>normal       </td> <td>normal</td> <td>4       </td> <td>25       </td> <td>Moderate  </td> <td>6     </td> <td>25.7      </td> <td>8.2        </td> <td>6.8         </td> <td>26        </td> <td>10         </td> <td>7.25        </td> <td>6.93        </td> <td>0         </td>\n",
       "        </tr>\n",
       "        <tr>\n",
       "            <td>0     </td> <td>4        </td> <td>Owl    </td> <td>0            </td> <td>0         </td> <td>2.97</td> <td>12           </td> <td>0.38           </td> <td>18              </td> <td>18             </td> <td>18          </td> <td>9          </td> <td>moderate        </td> <td>severe       </td> <td>normal</td> <td>45      </td> <td>17       </td> <td>Light     </td> <td>3     </td> <td>27.44     </td> <td>6.55       </td> <td>3           </td> <td>28        </td> <td>12.59      </td> <td>10.09       </td> <td>5.02        </td> <td>0         </td>\n",
       "        </tr>\n",
       "        <tr>\n",
       "            <td>0     </td> <td>4        </td> <td>Owl    </td> <td>0            </td> <td>0         </td> <td>3.2 </td> <td>4            </td> <td>1.22           </td> <td>9               </td> <td>7              </td> <td>25          </td> <td>14         </td> <td>normal          </td> <td>severe       </td> <td>normal</td> <td>46      </td> <td>15       </td> <td>Moderate  </td> <td>4     </td> <td>25.9      </td> <td>8.67       </td> <td>6.09        </td> <td>23.75     </td> <td>9.5        </td> <td>7           </td> <td>6.35        </td> <td>0         </td>\n",
       "        </tr>\n",
       "        <tr>\n",
       "            <td>1     </td> <td>4        </td> <td>Neither</td> <td>0            </td> <td>0         </td> <td>3.5 </td> <td>0            </td> <td>-0.04          </td> <td>6               </td> <td>14             </td> <td>8           </td> <td>28         </td> <td>moderate        </td> <td>moderate     </td> <td>high  </td> <td>50      </td> <td>22       </td> <td>Abstain   </td> <td>0     </td> <td>23.8      </td> <td>8.95       </td> <td>9.05        </td> <td>26        </td> <td>10.75      </td> <td>9           </td> <td>9.04        </td> <td>0         </td>\n",
       "        </tr>\n",
       "        <tr>\n",
       "            <td>0     </td> <td>4        </td> <td>Neither</td> <td>2            </td> <td>1         </td> <td>2.9 </td> <td>0            </td> <td>0.72           </td> <td>2               </td> <td>6              </td> <td>11          </td> <td>31         </td> <td>normal          </td> <td>moderate     </td> <td>high  </td> <td>48      </td> <td>30       </td> <td>Moderate  </td> <td>6     </td> <td>26.2      </td> <td>8          </td> <td>6.6         </td> <td>25.38     </td> <td>10.25      </td> <td>6.88        </td> <td>6.68        </td> <td>0         </td>\n",
       "        </tr>\n",
       "        <tr>\n",
       "            <td>0     </td> <td>4        </td> <td>Neither</td> <td>2            </td> <td>1         </td> <td>2.9 </td> <td>0            </td> <td>-0.04          </td> <td>8               </td> <td>18             </td> <td>12          </td> <td>26         </td> <td>moderate        </td> <td>moderate     </td> <td>high  </td> <td>56      </td> <td>17       </td> <td>Moderate  </td> <td>5     </td> <td>24.4      </td> <td>8.6        </td> <td>8.4         </td> <td>25.5      </td> <td>11         </td> <td>9           </td> <td>8.57        </td> <td>0         </td>\n",
       "        </tr>\n",
       "        <tr>\n",
       "            <td>0     </td> <td>4        </td> <td>Neither</td> <td>2            </td> <td>1         </td> <td>3.4 </td> <td>3            </td> <td>0.78           </td> <td>9               </td> <td>4              </td> <td>5           </td> <td>9          </td> <td>normal          </td> <td>normal       </td> <td>normal</td> <td>18      </td> <td>27       </td> <td>Light     </td> <td>3     </td> <td>23.9      </td> <td>7.8        </td> <td>8           </td> <td>25.25     </td> <td>10         </td> <td>7           </td> <td>7.71        </td> <td>0         </td>\n",
       "        </tr>\n",
       "        <tr>\n",
       "            <td>0     </td> <td>4        </td> <td>Neither</td> <td>2            </td> <td>1         </td> <td>3   </td> <td>2            </td> <td>-0.86          </td> <td>6               </td> <td>7              </td> <td>8           </td> <td>14         </td> <td>normal          </td> <td>moderate     </td> <td>normal</td> <td>29      </td> <td>25       </td> <td>Moderate  </td> <td>5     </td> <td>25        </td> <td>8.6        </td> <td>8.1         </td> <td>25.5      </td> <td>8.5        </td> <td>5.75        </td> <td>7.43        </td> <td>0         </td>\n",
       "        </tr>\n",
       "        <tr>\n",
       "            <td>0     </td> <td>4        </td> <td>Neither</td> <td>3            </td> <td>1         </td> <td>2.8 </td> <td>0            </td> <td>-1.27          </td> <td>3               </td> <td>4              </td> <td>1           </td> <td>2          </td> <td>normal          </td> <td>normal       </td> <td>normal</td> <td>7       </td> <td>18       </td> <td>Light     </td> <td>6     </td> <td>23.8      </td> <td>8.1        </td> <td>8.4         </td> <td>25.25     </td> <td>10.75      </td> <td>9.25        </td> <td>8.64        </td> <td>0         </td>\n",
       "        </tr>\n",
       "    </tbody>\n",
       "</table>\n",
       "<p>... (47 rows omitted)</p>"
      ],
      "text/plain": [
       "Gender | ClassYear | LarkOwl | NumEarlyClass | EarlyClass | GPA  | ClassesMissed | CognitionZscore | PoorSleepQuality | DepressionScore | AnxietyScore | StressScore | DepressionStatus | AnxietyStatus | Stress | DASScore | Happiness | AlcoholUse | Drinks | WeekdayBed | WeekdayRise | WeekdaySleep | WeekendBed | WeekendRise | WeekendSleep | AverageSleep | AllNighter\n",
       "0      | 4         | Neither | 0             | 0          | 3.6  | 0             | -0.26           | 4                | 4               | 3            | 8           | normal           | normal        | normal | 15       | 28        | Moderate   | 10     | 25.75      | 8.7         | 7.7          | 25.75      | 9.5         | 5.88         | 7.18         | 0\n",
       "0      | 4         | Neither | 2             | 1          | 3.24 | 0             | 1.39            | 6                | 1               | 0            | 3           | normal           | normal        | normal | 4        | 25        | Moderate   | 6      | 25.7       | 8.2         | 6.8          | 26         | 10          | 7.25         | 6.93         | 0\n",
       "0      | 4         | Owl     | 0             | 0          | 2.97 | 12            | 0.38            | 18               | 18              | 18           | 9           | moderate         | severe        | normal | 45       | 17        | Light      | 3      | 27.44      | 6.55        | 3            | 28         | 12.59       | 10.09        | 5.02         | 0\n",
       "0      | 4         | Owl     | 0             | 0          | 3.2  | 4             | 1.22            | 9                | 7               | 25           | 14          | normal           | severe        | normal | 46       | 15        | Moderate   | 4      | 25.9       | 8.67        | 6.09         | 23.75      | 9.5         | 7            | 6.35         | 0\n",
       "1      | 4         | Neither | 0             | 0          | 3.5  | 0             | -0.04           | 6                | 14              | 8            | 28          | moderate         | moderate      | high   | 50       | 22        | Abstain    | 0      | 23.8       | 8.95        | 9.05         | 26         | 10.75       | 9            | 9.04         | 0\n",
       "0      | 4         | Neither | 2             | 1          | 2.9  | 0             | 0.72            | 2                | 6               | 11           | 31          | normal           | moderate      | high   | 48       | 30        | Moderate   | 6      | 26.2       | 8           | 6.6          | 25.38      | 10.25       | 6.88         | 6.68         | 0\n",
       "0      | 4         | Neither | 2             | 1          | 2.9  | 0             | -0.04           | 8                | 18              | 12           | 26          | moderate         | moderate      | high   | 56       | 17        | Moderate   | 5      | 24.4       | 8.6         | 8.4          | 25.5       | 11          | 9            | 8.57         | 0\n",
       "0      | 4         | Neither | 2             | 1          | 3.4  | 3             | 0.78            | 9                | 4               | 5            | 9           | normal           | normal        | normal | 18       | 27        | Light      | 3      | 23.9       | 7.8         | 8            | 25.25      | 10          | 7            | 7.71         | 0\n",
       "0      | 4         | Neither | 2             | 1          | 3    | 2             | -0.86           | 6                | 7               | 8            | 14          | normal           | moderate      | normal | 29       | 25        | Moderate   | 5      | 25         | 8.6         | 8.1          | 25.5       | 8.5         | 5.75         | 7.43         | 0\n",
       "0      | 4         | Neither | 3             | 1          | 2.8  | 0             | -1.27           | 3                | 4               | 1            | 2           | normal           | normal        | normal | 7        | 18        | Light      | 6      | 23.8       | 8.1         | 8.4          | 25.25      | 10.75       | 9.25         | 8.64         | 0\n",
       "... (47 rows omitted)"
      ]
     },
     "execution_count": 10,
     "metadata": {},
     "output_type": "execute_result"
    }
   ],
   "source": [
    "sleep.where('ClassYear', are.equal_to (4)) #same as above"
   ]
  },
  {
   "cell_type": "code",
   "execution_count": 11,
   "metadata": {},
   "outputs": [
    {
     "data": {
      "text/html": [
       "<table border=\"1\" class=\"dataframe\">\n",
       "    <thead>\n",
       "        <tr>\n",
       "            <th>Gender</th> <th>ClassYear</th> <th>LarkOwl</th> <th>NumEarlyClass</th> <th>EarlyClass</th> <th>GPA</th> <th>ClassesMissed</th> <th>CognitionZscore</th> <th>PoorSleepQuality</th> <th>DepressionScore</th> <th>AnxietyScore</th> <th>StressScore</th> <th>DepressionStatus</th> <th>AnxietyStatus</th> <th>Stress</th> <th>DASScore</th> <th>Happiness</th> <th>AlcoholUse</th> <th>Drinks</th> <th>WeekdayBed</th> <th>WeekdayRise</th> <th>WeekdaySleep</th> <th>WeekendBed</th> <th>WeekendRise</th> <th>WeekendSleep</th> <th>AverageSleep</th> <th>AllNighter</th>\n",
       "        </tr>\n",
       "    </thead>\n",
       "    <tbody>\n",
       "        <tr>\n",
       "            <td>0     </td> <td>4        </td> <td>Neither</td> <td>0            </td> <td>0         </td> <td>3.6 </td> <td>0            </td> <td>-0.26          </td> <td>4               </td> <td>4              </td> <td>3           </td> <td>8          </td> <td>normal          </td> <td>normal       </td> <td>normal</td> <td>15      </td> <td>28       </td> <td>Moderate  </td> <td>10    </td> <td>25.75     </td> <td>8.7        </td> <td>7.7         </td> <td>25.75     </td> <td>9.5        </td> <td>5.88        </td> <td>7.18        </td> <td>0         </td>\n",
       "        </tr>\n",
       "        <tr>\n",
       "            <td>1     </td> <td>2        </td> <td>Lark   </td> <td>2            </td> <td>1         </td> <td>3.35</td> <td>2            </td> <td>0.41           </td> <td>2               </td> <td>1              </td> <td>0           </td> <td>1          </td> <td>normal          </td> <td>normal       </td> <td>normal</td> <td>2       </td> <td>25       </td> <td>Moderate  </td> <td>6     </td> <td>25.35     </td> <td>8.48       </td> <td>7.73        </td> <td>25.63     </td> <td>10.13      </td> <td>7           </td> <td>7.52        </td> <td>1         </td>\n",
       "        </tr>\n",
       "        <tr>\n",
       "            <td>0     </td> <td>1        </td> <td>Neither</td> <td>2            </td> <td>1         </td> <td>4   </td> <td>0            </td> <td>1.03           </td> <td>5               </td> <td>12             </td> <td>16          </td> <td>20         </td> <td>moderate        </td> <td>severe       </td> <td>high  </td> <td>48      </td> <td>29       </td> <td>Light     </td> <td>3     </td> <td>24.4      </td> <td>8.75       </td> <td>8.25        </td> <td>24        </td> <td>9          </td> <td>9.25        </td> <td>8.54        </td> <td>0         </td>\n",
       "        </tr>\n",
       "        <tr>\n",
       "            <td>1     </td> <td>2        </td> <td>Neither</td> <td>1            </td> <td>1         </td> <td>3.7 </td> <td>0            </td> <td>0.06           </td> <td>11              </td> <td>2              </td> <td>12          </td> <td>13         </td> <td>normal          </td> <td>moderate     </td> <td>normal</td> <td>27      </td> <td>14       </td> <td>Moderate  </td> <td>10    </td> <td>25        </td> <td>8.53       </td> <td>8.23        </td> <td>25.25     </td> <td>10.75      </td> <td>7.75        </td> <td>8.09        </td> <td>0         </td>\n",
       "        </tr>\n",
       "        <tr>\n",
       "            <td>1     </td> <td>2        </td> <td>Neither</td> <td>0            </td> <td>0         </td> <td>3   </td> <td>0            </td> <td>-0.47          </td> <td>8               </td> <td>2              </td> <td>8           </td> <td>11         </td> <td>normal          </td> <td>moderate     </td> <td>normal</td> <td>21      </td> <td>24       </td> <td>Moderate  </td> <td>10    </td> <td>25.3      </td> <td>9.8        </td> <td>8.4         </td> <td>26.5      </td> <td>10.75      </td> <td>8.5         </td> <td>8.43        </td> <td>0         </td>\n",
       "        </tr>\n",
       "        <tr>\n",
       "            <td>1     </td> <td>3        </td> <td>Neither</td> <td>2            </td> <td>1         </td> <td>3.3 </td> <td>6            </td> <td>0.04           </td> <td>7               </td> <td>3              </td> <td>3           </td> <td>2          </td> <td>normal          </td> <td>normal       </td> <td>normal</td> <td>8       </td> <td>20       </td> <td>Light     </td> <td>5     </td> <td>25.6      </td> <td>8.73       </td> <td>7.03        </td> <td>27.25     </td> <td>11.5       </td> <td>8.5         </td> <td>7.45        </td> <td>0         </td>\n",
       "        </tr>\n",
       "        <tr>\n",
       "            <td>0     </td> <td>3        </td> <td>Neither</td> <td>5            </td> <td>1         </td> <td>3.5 </td> <td>1            </td> <td>-0.4           </td> <td>4               </td> <td>2              </td> <td>0           </td> <td>3          </td> <td>normal          </td> <td>normal       </td> <td>normal</td> <td>5       </td> <td>28       </td> <td>Abstain   </td> <td>0     </td> <td>22.9      </td> <td>6.9        </td> <td>8.4         </td> <td>22.25     </td> <td>9.5        </td> <td>10.25       </td> <td>8.93        </td> <td>0         </td>\n",
       "        </tr>\n",
       "        <tr>\n",
       "            <td>0     </td> <td>3        </td> <td>Lark   </td> <td>0            </td> <td>0         </td> <td>3.4 </td> <td>0            </td> <td>0.4            </td> <td>4               </td> <td>3              </td> <td>1           </td> <td>11         </td> <td>normal          </td> <td>normal       </td> <td>normal</td> <td>15      </td> <td>23       </td> <td>Light     </td> <td>2     </td> <td>24        </td> <td>8.77       </td> <td>8.67        </td> <td>25.25     </td> <td>10.5       </td> <td>9.5         </td> <td>8.9         </td> <td>0         </td>\n",
       "        </tr>\n",
       "        <tr>\n",
       "            <td>0     </td> <td>2        </td> <td>Neither</td> <td>2            </td> <td>1         </td> <td>2.8 </td> <td>5            </td> <td>-0.8           </td> <td>8               </td> <td>16             </td> <td>7           </td> <td>21         </td> <td>moderate        </td> <td>normal       </td> <td>high  </td> <td>44      </td> <td>25       </td> <td>Moderate  </td> <td>4     </td> <td>22.9      </td> <td>6.85       </td> <td>8.25        </td> <td>23.75     </td> <td>9.09       </td> <td>8.59        </td> <td>8.34        </td> <td>0         </td>\n",
       "        </tr>\n",
       "        <tr>\n",
       "            <td>1     </td> <td>2        </td> <td>Lark   </td> <td>5            </td> <td>1         </td> <td>3   </td> <td>0            </td> <td>-1.18          </td> <td>8               </td> <td>23             </td> <td>12          </td> <td>20         </td> <td>severe          </td> <td>moderate     </td> <td>high  </td> <td>55      </td> <td>24       </td> <td>Heavy     </td> <td>12    </td> <td>24        </td> <td>7.9        </td> <td>8.5         </td> <td>25.5      </td> <td>10.5       </td> <td>7.5         </td> <td>8.22        </td> <td>0         </td>\n",
       "        </tr>\n",
       "    </tbody>\n",
       "</table>\n",
       "<p>... (174 rows omitted)</p>"
      ],
      "text/plain": [
       "Gender | ClassYear | LarkOwl | NumEarlyClass | EarlyClass | GPA  | ClassesMissed | CognitionZscore | PoorSleepQuality | DepressionScore | AnxietyScore | StressScore | DepressionStatus | AnxietyStatus | Stress | DASScore | Happiness | AlcoholUse | Drinks | WeekdayBed | WeekdayRise | WeekdaySleep | WeekendBed | WeekendRise | WeekendSleep | AverageSleep | AllNighter\n",
       "0      | 4         | Neither | 0             | 0          | 3.6  | 0             | -0.26           | 4                | 4               | 3            | 8           | normal           | normal        | normal | 15       | 28        | Moderate   | 10     | 25.75      | 8.7         | 7.7          | 25.75      | 9.5         | 5.88         | 7.18         | 0\n",
       "1      | 2         | Lark    | 2             | 1          | 3.35 | 2             | 0.41            | 2                | 1               | 0            | 1           | normal           | normal        | normal | 2        | 25        | Moderate   | 6      | 25.35      | 8.48        | 7.73         | 25.63      | 10.13       | 7            | 7.52         | 1\n",
       "0      | 1         | Neither | 2             | 1          | 4    | 0             | 1.03            | 5                | 12              | 16           | 20          | moderate         | severe        | high   | 48       | 29        | Light      | 3      | 24.4       | 8.75        | 8.25         | 24         | 9           | 9.25         | 8.54         | 0\n",
       "1      | 2         | Neither | 1             | 1          | 3.7  | 0             | 0.06            | 11               | 2               | 12           | 13          | normal           | moderate      | normal | 27       | 14        | Moderate   | 10     | 25         | 8.53        | 8.23         | 25.25      | 10.75       | 7.75         | 8.09         | 0\n",
       "1      | 2         | Neither | 0             | 0          | 3    | 0             | -0.47           | 8                | 2               | 8            | 11          | normal           | moderate      | normal | 21       | 24        | Moderate   | 10     | 25.3       | 9.8         | 8.4          | 26.5       | 10.75       | 8.5          | 8.43         | 0\n",
       "1      | 3         | Neither | 2             | 1          | 3.3  | 6             | 0.04            | 7                | 3               | 3            | 2           | normal           | normal        | normal | 8        | 20        | Light      | 5      | 25.6       | 8.73        | 7.03         | 27.25      | 11.5        | 8.5          | 7.45         | 0\n",
       "0      | 3         | Neither | 5             | 1          | 3.5  | 1             | -0.4            | 4                | 2               | 0            | 3           | normal           | normal        | normal | 5        | 28        | Abstain    | 0      | 22.9       | 6.9         | 8.4          | 22.25      | 9.5         | 10.25        | 8.93         | 0\n",
       "0      | 3         | Lark    | 0             | 0          | 3.4  | 0             | 0.4             | 4                | 3               | 1            | 11          | normal           | normal        | normal | 15       | 23        | Light      | 2      | 24         | 8.77        | 8.67         | 25.25      | 10.5        | 9.5          | 8.9          | 0\n",
       "0      | 2         | Neither | 2             | 1          | 2.8  | 5             | -0.8            | 8                | 16              | 7            | 21          | moderate         | normal        | high   | 44       | 25        | Moderate   | 4      | 22.9       | 6.85        | 8.25         | 23.75      | 9.09        | 8.59         | 8.34         | 0\n",
       "1      | 2         | Lark    | 5             | 1          | 3    | 0             | -1.18           | 8                | 23              | 12           | 20          | severe           | moderate      | high   | 55       | 24        | Heavy      | 12     | 24         | 7.9         | 8.5          | 25.5       | 10.5        | 7.5          | 8.22         | 0\n",
       "... (174 rows omitted)"
      ]
     },
     "execution_count": 11,
     "metadata": {},
     "output_type": "execute_result"
    }
   ],
   "source": [
    "# Create a table with students who average more than 7, but less than 9 hours each night.\n",
    "sleep.where('AverageSleep', are.between(7, 9)) #includes lower bound but not upper bound"
   ]
  },
  {
   "cell_type": "code",
   "execution_count": 12,
   "metadata": {},
   "outputs": [
    {
     "data": {
      "text/html": [
       "<table border=\"1\" class=\"dataframe\">\n",
       "    <thead>\n",
       "        <tr>\n",
       "            <th>Gender</th> <th>ClassYear</th> <th>LarkOwl</th> <th>NumEarlyClass</th> <th>EarlyClass</th> <th>GPA</th> <th>ClassesMissed</th> <th>CognitionZscore</th> <th>PoorSleepQuality</th> <th>DepressionScore</th> <th>AnxietyScore</th> <th>StressScore</th> <th>DepressionStatus</th> <th>AnxietyStatus</th> <th>Stress</th> <th>DASScore</th> <th>Happiness</th> <th>AlcoholUse</th> <th>Drinks</th> <th>WeekdayBed</th> <th>WeekdayRise</th> <th>WeekdaySleep</th> <th>WeekendBed</th> <th>WeekendRise</th> <th>WeekendSleep</th> <th>AverageSleep</th> <th>AllNighter</th>\n",
       "        </tr>\n",
       "    </thead>\n",
       "    <tbody>\n",
       "        <tr>\n",
       "            <td>0     </td> <td>4        </td> <td>Neither</td> <td>0            </td> <td>0         </td> <td>3.6 </td> <td>0            </td> <td>-0.26          </td> <td>4               </td> <td>4              </td> <td>3           </td> <td>8          </td> <td>normal          </td> <td>normal       </td> <td>normal</td> <td>15      </td> <td>28       </td> <td>Moderate  </td> <td>10    </td> <td>25.75     </td> <td>8.7        </td> <td>7.7         </td> <td>25.75     </td> <td>9.5        </td> <td>5.88        </td> <td>7.18        </td> <td>0         </td>\n",
       "        </tr>\n",
       "        <tr>\n",
       "            <td>1     </td> <td>2        </td> <td>Lark   </td> <td>2            </td> <td>1         </td> <td>3.35</td> <td>2            </td> <td>0.41           </td> <td>2               </td> <td>1              </td> <td>0           </td> <td>1          </td> <td>normal          </td> <td>normal       </td> <td>normal</td> <td>2       </td> <td>25       </td> <td>Moderate  </td> <td>6     </td> <td>25.35     </td> <td>8.48       </td> <td>7.73        </td> <td>25.63     </td> <td>10.13      </td> <td>7           </td> <td>7.52        </td> <td>1         </td>\n",
       "        </tr>\n",
       "        <tr>\n",
       "            <td>0     </td> <td>1        </td> <td>Neither</td> <td>2            </td> <td>1         </td> <td>4   </td> <td>0            </td> <td>1.03           </td> <td>5               </td> <td>12             </td> <td>16          </td> <td>20         </td> <td>moderate        </td> <td>severe       </td> <td>high  </td> <td>48      </td> <td>29       </td> <td>Light     </td> <td>3     </td> <td>24.4      </td> <td>8.75       </td> <td>8.25        </td> <td>24        </td> <td>9          </td> <td>9.25        </td> <td>8.54        </td> <td>0         </td>\n",
       "        </tr>\n",
       "        <tr>\n",
       "            <td>1     </td> <td>2        </td> <td>Neither</td> <td>1            </td> <td>1         </td> <td>3.7 </td> <td>0            </td> <td>0.06           </td> <td>11              </td> <td>2              </td> <td>12          </td> <td>13         </td> <td>normal          </td> <td>moderate     </td> <td>normal</td> <td>27      </td> <td>14       </td> <td>Moderate  </td> <td>10    </td> <td>25        </td> <td>8.53       </td> <td>8.23        </td> <td>25.25     </td> <td>10.75      </td> <td>7.75        </td> <td>8.09        </td> <td>0         </td>\n",
       "        </tr>\n",
       "        <tr>\n",
       "            <td>1     </td> <td>2        </td> <td>Neither</td> <td>0            </td> <td>0         </td> <td>3   </td> <td>0            </td> <td>-0.47          </td> <td>8               </td> <td>2              </td> <td>8           </td> <td>11         </td> <td>normal          </td> <td>moderate     </td> <td>normal</td> <td>21      </td> <td>24       </td> <td>Moderate  </td> <td>10    </td> <td>25.3      </td> <td>9.8        </td> <td>8.4         </td> <td>26.5      </td> <td>10.75      </td> <td>8.5         </td> <td>8.43        </td> <td>0         </td>\n",
       "        </tr>\n",
       "        <tr>\n",
       "            <td>1     </td> <td>3        </td> <td>Neither</td> <td>2            </td> <td>1         </td> <td>3.3 </td> <td>6            </td> <td>0.04           </td> <td>7               </td> <td>3              </td> <td>3           </td> <td>2          </td> <td>normal          </td> <td>normal       </td> <td>normal</td> <td>8       </td> <td>20       </td> <td>Light     </td> <td>5     </td> <td>25.6      </td> <td>8.73       </td> <td>7.03        </td> <td>27.25     </td> <td>11.5       </td> <td>8.5         </td> <td>7.45        </td> <td>0         </td>\n",
       "        </tr>\n",
       "        <tr>\n",
       "            <td>0     </td> <td>3        </td> <td>Neither</td> <td>5            </td> <td>1         </td> <td>3.5 </td> <td>1            </td> <td>-0.4           </td> <td>4               </td> <td>2              </td> <td>0           </td> <td>3          </td> <td>normal          </td> <td>normal       </td> <td>normal</td> <td>5       </td> <td>28       </td> <td>Abstain   </td> <td>0     </td> <td>22.9      </td> <td>6.9        </td> <td>8.4         </td> <td>22.25     </td> <td>9.5        </td> <td>10.25       </td> <td>8.93        </td> <td>0         </td>\n",
       "        </tr>\n",
       "        <tr>\n",
       "            <td>0     </td> <td>3        </td> <td>Lark   </td> <td>0            </td> <td>0         </td> <td>3.4 </td> <td>0            </td> <td>0.4            </td> <td>4               </td> <td>3              </td> <td>1           </td> <td>11         </td> <td>normal          </td> <td>normal       </td> <td>normal</td> <td>15      </td> <td>23       </td> <td>Light     </td> <td>2     </td> <td>24        </td> <td>8.77       </td> <td>8.67        </td> <td>25.25     </td> <td>10.5       </td> <td>9.5         </td> <td>8.9         </td> <td>0         </td>\n",
       "        </tr>\n",
       "        <tr>\n",
       "            <td>0     </td> <td>2        </td> <td>Neither</td> <td>2            </td> <td>1         </td> <td>2.8 </td> <td>5            </td> <td>-0.8           </td> <td>8               </td> <td>16             </td> <td>7           </td> <td>21         </td> <td>moderate        </td> <td>normal       </td> <td>high  </td> <td>44      </td> <td>25       </td> <td>Moderate  </td> <td>4     </td> <td>22.9      </td> <td>6.85       </td> <td>8.25        </td> <td>23.75     </td> <td>9.09       </td> <td>8.59        </td> <td>8.34        </td> <td>0         </td>\n",
       "        </tr>\n",
       "        <tr>\n",
       "            <td>1     </td> <td>2        </td> <td>Lark   </td> <td>5            </td> <td>1         </td> <td>3   </td> <td>0            </td> <td>-1.18          </td> <td>8               </td> <td>23             </td> <td>12          </td> <td>20         </td> <td>severe          </td> <td>moderate     </td> <td>high  </td> <td>55      </td> <td>24       </td> <td>Heavy     </td> <td>12    </td> <td>24        </td> <td>7.9        </td> <td>8.5         </td> <td>25.5      </td> <td>10.5       </td> <td>7.5         </td> <td>8.22        </td> <td>0         </td>\n",
       "        </tr>\n",
       "    </tbody>\n",
       "</table>\n",
       "<p>... (172 rows omitted)</p>"
      ],
      "text/plain": [
       "Gender | ClassYear | LarkOwl | NumEarlyClass | EarlyClass | GPA  | ClassesMissed | CognitionZscore | PoorSleepQuality | DepressionScore | AnxietyScore | StressScore | DepressionStatus | AnxietyStatus | Stress | DASScore | Happiness | AlcoholUse | Drinks | WeekdayBed | WeekdayRise | WeekdaySleep | WeekendBed | WeekendRise | WeekendSleep | AverageSleep | AllNighter\n",
       "0      | 4         | Neither | 0             | 0          | 3.6  | 0             | -0.26           | 4                | 4               | 3            | 8           | normal           | normal        | normal | 15       | 28        | Moderate   | 10     | 25.75      | 8.7         | 7.7          | 25.75      | 9.5         | 5.88         | 7.18         | 0\n",
       "1      | 2         | Lark    | 2             | 1          | 3.35 | 2             | 0.41            | 2                | 1               | 0            | 1           | normal           | normal        | normal | 2        | 25        | Moderate   | 6      | 25.35      | 8.48        | 7.73         | 25.63      | 10.13       | 7            | 7.52         | 1\n",
       "0      | 1         | Neither | 2             | 1          | 4    | 0             | 1.03            | 5                | 12              | 16           | 20          | moderate         | severe        | high   | 48       | 29        | Light      | 3      | 24.4       | 8.75        | 8.25         | 24         | 9           | 9.25         | 8.54         | 0\n",
       "1      | 2         | Neither | 1             | 1          | 3.7  | 0             | 0.06            | 11               | 2               | 12           | 13          | normal           | moderate      | normal | 27       | 14        | Moderate   | 10     | 25         | 8.53        | 8.23         | 25.25      | 10.75       | 7.75         | 8.09         | 0\n",
       "1      | 2         | Neither | 0             | 0          | 3    | 0             | -0.47           | 8                | 2               | 8            | 11          | normal           | moderate      | normal | 21       | 24        | Moderate   | 10     | 25.3       | 9.8         | 8.4          | 26.5       | 10.75       | 8.5          | 8.43         | 0\n",
       "1      | 3         | Neither | 2             | 1          | 3.3  | 6             | 0.04            | 7                | 3               | 3            | 2           | normal           | normal        | normal | 8        | 20        | Light      | 5      | 25.6       | 8.73        | 7.03         | 27.25      | 11.5        | 8.5          | 7.45         | 0\n",
       "0      | 3         | Neither | 5             | 1          | 3.5  | 1             | -0.4            | 4                | 2               | 0            | 3           | normal           | normal        | normal | 5        | 28        | Abstain    | 0      | 22.9       | 6.9         | 8.4          | 22.25      | 9.5         | 10.25        | 8.93         | 0\n",
       "0      | 3         | Lark    | 0             | 0          | 3.4  | 0             | 0.4             | 4                | 3               | 1            | 11          | normal           | normal        | normal | 15       | 23        | Light      | 2      | 24         | 8.77        | 8.67         | 25.25      | 10.5        | 9.5          | 8.9          | 0\n",
       "0      | 2         | Neither | 2             | 1          | 2.8  | 5             | -0.8            | 8                | 16              | 7            | 21          | moderate         | normal        | high   | 44       | 25        | Moderate   | 4      | 22.9       | 6.85        | 8.25         | 23.75      | 9.09        | 8.59         | 8.34         | 0\n",
       "1      | 2         | Lark    | 5             | 1          | 3    | 0             | -1.18           | 8                | 23              | 12           | 20          | severe           | moderate      | high   | 55       | 24        | Heavy      | 12     | 24         | 7.9         | 8.5          | 25.5       | 10.5        | 7.5          | 8.22         | 0\n",
       "... (172 rows omitted)"
      ]
     },
     "execution_count": 12,
     "metadata": {},
     "output_type": "execute_result"
    }
   ],
   "source": [
    "# Create a table with students who average more than 7, but less than 9 hours each night.\n",
    "sleep.where('AverageSleep', are.strictly_between(7, 9)) #doesn't include lower bound and upper bound"
   ]
  },
  {
   "cell_type": "code",
   "execution_count": 13,
   "metadata": {},
   "outputs": [
    {
     "data": {
      "text/plain": [
       "7.9473170731707325"
      ]
     },
     "execution_count": 13,
     "metadata": {},
     "output_type": "execute_result"
    }
   ],
   "source": [
    "# On average, how long do \"Lark's\" sleep?\n",
    "np.mean(sleep.where('LarkOwl', 'Lark').column('AverageSleep'))"
   ]
  },
  {
   "cell_type": "code",
   "execution_count": 14,
   "metadata": {},
   "outputs": [
    {
     "data": {
      "text/plain": [
       "7.9473170731707325"
      ]
     },
     "execution_count": 14,
     "metadata": {},
     "output_type": "execute_result"
    }
   ],
   "source": [
    "sleep.where('LarkOwl', 'Lark').column('AverageSleep').mean()"
   ]
  },
  {
   "cell_type": "code",
   "execution_count": 15,
   "metadata": {},
   "outputs": [
    {
     "data": {
      "text/plain": [
       "127"
      ]
     },
     "execution_count": 15,
     "metadata": {},
     "output_type": "execute_result"
    }
   ],
   "source": [
    "# How many students get at least 8 hours of sleep each night (on average)?\n",
    "len(sleep.where('AverageSleep', are.above_or_equal_to(8)).column('ClassesMissed'))"
   ]
  },
  {
   "cell_type": "code",
   "execution_count": 16,
   "metadata": {},
   "outputs": [
    {
     "data": {
      "text/plain": [
       "127"
      ]
     },
     "execution_count": 16,
     "metadata": {},
     "output_type": "execute_result"
    }
   ],
   "source": [
    "sleep.where('AverageSleep', are.above_or_equal_to(8)).num_rows"
   ]
  },
  {
   "cell_type": "code",
   "execution_count": 17,
   "metadata": {},
   "outputs": [
    {
     "data": {
      "text/plain": [
       "182"
      ]
     },
     "execution_count": 17,
     "metadata": {},
     "output_type": "execute_result"
    }
   ],
   "source": [
    "# How many students missed fewer than 3 classes?\n",
    "sleep.where('ClassesMissed', are.below(3)).num_rows"
   ]
  },
  {
   "cell_type": "markdown",
   "metadata": {},
   "source": [
    "## Census ##"
   ]
  },
  {
   "cell_type": "code",
   "execution_count": 18,
   "metadata": {},
   "outputs": [
    {
     "data": {
      "text/html": [
       "<table border=\"1\" class=\"dataframe\">\n",
       "    <thead>\n",
       "        <tr>\n",
       "            <th>SEX</th> <th>AGE</th> <th>ESTIMATESBASE2020</th> <th>POPESTIMATE2020</th> <th>POPESTIMATE2021</th>\n",
       "        </tr>\n",
       "    </thead>\n",
       "    <tbody>\n",
       "        <tr>\n",
       "            <td>0   </td> <td>0   </td> <td>3733173          </td> <td>3699196        </td> <td>3564493        </td>\n",
       "        </tr>\n",
       "        <tr>\n",
       "            <td>0   </td> <td>1   </td> <td>3775586          </td> <td>3762475        </td> <td>3702936        </td>\n",
       "        </tr>\n",
       "        <tr>\n",
       "            <td>0   </td> <td>2   </td> <td>3871739          </td> <td>3852130        </td> <td>3767428        </td>\n",
       "        </tr>\n",
       "        <tr>\n",
       "            <td>0   </td> <td>3   </td> <td>3964565          </td> <td>3931443        </td> <td>3856743        </td>\n",
       "        </tr>\n",
       "        <tr>\n",
       "            <td>0   </td> <td>4   </td> <td>4047488          </td> <td>4035968        </td> <td>3935738        </td>\n",
       "        </tr>\n",
       "        <tr>\n",
       "            <td>0   </td> <td>5   </td> <td>4076067          </td> <td>4072698        </td> <td>4040153        </td>\n",
       "        </tr>\n",
       "        <tr>\n",
       "            <td>0   </td> <td>6   </td> <td>4046735          </td> <td>4060909        </td> <td>4076629        </td>\n",
       "        </tr>\n",
       "        <tr>\n",
       "            <td>0   </td> <td>7   </td> <td>4052265          </td> <td>4048019        </td> <td>4064596        </td>\n",
       "        </tr>\n",
       "        <tr>\n",
       "            <td>0   </td> <td>8   </td> <td>4071358          </td> <td>4055165        </td> <td>4051555        </td>\n",
       "        </tr>\n",
       "        <tr>\n",
       "            <td>0   </td> <td>9   </td> <td>4112302          </td> <td>4100071        </td> <td>4058615        </td>\n",
       "        </tr>\n",
       "    </tbody>\n",
       "</table>\n",
       "<p>... (296 rows omitted)</p>"
      ],
      "text/plain": [
       "SEX  | AGE  | ESTIMATESBASE2020 | POPESTIMATE2020 | POPESTIMATE2021\n",
       "0    | 0    | 3733173           | 3699196         | 3564493\n",
       "0    | 1    | 3775586           | 3762475         | 3702936\n",
       "0    | 2    | 3871739           | 3852130         | 3767428\n",
       "0    | 3    | 3964565           | 3931443         | 3856743\n",
       "0    | 4    | 4047488           | 4035968         | 3935738\n",
       "0    | 5    | 4076067           | 4072698         | 4040153\n",
       "0    | 6    | 4046735           | 4060909         | 4076629\n",
       "0    | 7    | 4052265           | 4048019         | 4064596\n",
       "0    | 8    | 4071358           | 4055165         | 4051555\n",
       "0    | 9    | 4112302           | 4100071         | 4058615\n",
       "... (296 rows omitted)"
      ]
     },
     "execution_count": 18,
     "metadata": {},
     "output_type": "execute_result"
    }
   ],
   "source": [
    "full = Table.read_table('nc-est2021-agesex-res.csv')\n",
    "full"
   ]
  },
  {
   "cell_type": "code",
   "execution_count": 19,
   "metadata": {},
   "outputs": [
    {
     "data": {
      "text/html": [
       "<table border=\"1\" class=\"dataframe\">\n",
       "    <thead>\n",
       "        <tr>\n",
       "            <th>SEX</th> <th>AGE</th> <th>ESTIMATESBASE2020</th> <th>POPESTIMATE2021</th>\n",
       "        </tr>\n",
       "    </thead>\n",
       "    <tbody>\n",
       "        <tr>\n",
       "            <td>0   </td> <td>0   </td> <td>3733173          </td> <td>3564493        </td>\n",
       "        </tr>\n",
       "        <tr>\n",
       "            <td>0   </td> <td>1   </td> <td>3775586          </td> <td>3702936        </td>\n",
       "        </tr>\n",
       "        <tr>\n",
       "            <td>0   </td> <td>2   </td> <td>3871739          </td> <td>3767428        </td>\n",
       "        </tr>\n",
       "        <tr>\n",
       "            <td>0   </td> <td>3   </td> <td>3964565          </td> <td>3856743        </td>\n",
       "        </tr>\n",
       "        <tr>\n",
       "            <td>0   </td> <td>4   </td> <td>4047488          </td> <td>3935738        </td>\n",
       "        </tr>\n",
       "        <tr>\n",
       "            <td>0   </td> <td>5   </td> <td>4076067          </td> <td>4040153        </td>\n",
       "        </tr>\n",
       "        <tr>\n",
       "            <td>0   </td> <td>6   </td> <td>4046735          </td> <td>4076629        </td>\n",
       "        </tr>\n",
       "        <tr>\n",
       "            <td>0   </td> <td>7   </td> <td>4052265          </td> <td>4064596        </td>\n",
       "        </tr>\n",
       "        <tr>\n",
       "            <td>0   </td> <td>8   </td> <td>4071358          </td> <td>4051555        </td>\n",
       "        </tr>\n",
       "        <tr>\n",
       "            <td>0   </td> <td>9   </td> <td>4112302          </td> <td>4058615        </td>\n",
       "        </tr>\n",
       "    </tbody>\n",
       "</table>\n",
       "<p>... (296 rows omitted)</p>"
      ],
      "text/plain": [
       "SEX  | AGE  | ESTIMATESBASE2020 | POPESTIMATE2021\n",
       "0    | 0    | 3733173           | 3564493\n",
       "0    | 1    | 3775586           | 3702936\n",
       "0    | 2    | 3871739           | 3767428\n",
       "0    | 3    | 3964565           | 3856743\n",
       "0    | 4    | 4047488           | 3935738\n",
       "0    | 5    | 4076067           | 4040153\n",
       "0    | 6    | 4046735           | 4076629\n",
       "0    | 7    | 4052265           | 4064596\n",
       "0    | 8    | 4071358           | 4051555\n",
       "0    | 9    | 4112302           | 4058615\n",
       "... (296 rows omitted)"
      ]
     },
     "execution_count": 19,
     "metadata": {},
     "output_type": "execute_result"
    }
   ],
   "source": [
    "partial = full.drop('POPESTIMATE2020')\n",
    "partial"
   ]
  },
  {
   "cell_type": "code",
   "execution_count": 20,
   "metadata": {},
   "outputs": [
    {
     "data": {
      "text/html": [
       "<table border=\"1\" class=\"dataframe\">\n",
       "    <thead>\n",
       "        <tr>\n",
       "            <th>SEX</th> <th>AGE</th> <th>2020</th> <th>2021</th>\n",
       "        </tr>\n",
       "    </thead>\n",
       "    <tbody>\n",
       "        <tr>\n",
       "            <td>0   </td> <td>0   </td> <td>3733173</td> <td>3564493</td>\n",
       "        </tr>\n",
       "        <tr>\n",
       "            <td>0   </td> <td>1   </td> <td>3775586</td> <td>3702936</td>\n",
       "        </tr>\n",
       "        <tr>\n",
       "            <td>0   </td> <td>2   </td> <td>3871739</td> <td>3767428</td>\n",
       "        </tr>\n",
       "        <tr>\n",
       "            <td>0   </td> <td>3   </td> <td>3964565</td> <td>3856743</td>\n",
       "        </tr>\n",
       "        <tr>\n",
       "            <td>0   </td> <td>4   </td> <td>4047488</td> <td>3935738</td>\n",
       "        </tr>\n",
       "        <tr>\n",
       "            <td>0   </td> <td>5   </td> <td>4076067</td> <td>4040153</td>\n",
       "        </tr>\n",
       "        <tr>\n",
       "            <td>0   </td> <td>6   </td> <td>4046735</td> <td>4076629</td>\n",
       "        </tr>\n",
       "        <tr>\n",
       "            <td>0   </td> <td>7   </td> <td>4052265</td> <td>4064596</td>\n",
       "        </tr>\n",
       "        <tr>\n",
       "            <td>0   </td> <td>8   </td> <td>4071358</td> <td>4051555</td>\n",
       "        </tr>\n",
       "        <tr>\n",
       "            <td>0   </td> <td>9   </td> <td>4112302</td> <td>4058615</td>\n",
       "        </tr>\n",
       "    </tbody>\n",
       "</table>\n",
       "<p>... (296 rows omitted)</p>"
      ],
      "text/plain": [
       "SEX  | AGE  | 2020    | 2021\n",
       "0    | 0    | 3733173 | 3564493\n",
       "0    | 1    | 3775586 | 3702936\n",
       "0    | 2    | 3871739 | 3767428\n",
       "0    | 3    | 3964565 | 3856743\n",
       "0    | 4    | 4047488 | 3935738\n",
       "0    | 5    | 4076067 | 4040153\n",
       "0    | 6    | 4046735 | 4076629\n",
       "0    | 7    | 4052265 | 4064596\n",
       "0    | 8    | 4071358 | 4051555\n",
       "0    | 9    | 4112302 | 4058615\n",
       "... (296 rows omitted)"
      ]
     },
     "execution_count": 20,
     "metadata": {},
     "output_type": "execute_result"
    }
   ],
   "source": [
    "simple = partial.relabel('ESTIMATESBASE2020', '2020').relabel('POPESTIMATE2021', '2021')\n",
    "simple"
   ]
  },
  {
   "cell_type": "code",
   "execution_count": 21,
   "metadata": {},
   "outputs": [
    {
     "data": {
      "text/html": [
       "<table border=\"1\" class=\"dataframe\">\n",
       "    <thead>\n",
       "        <tr>\n",
       "            <th>SEX</th> <th>AGE</th> <th>2020</th> <th>2021</th>\n",
       "        </tr>\n",
       "    </thead>\n",
       "    <tbody>\n",
       "        <tr>\n",
       "            <td>0   </td> <td>0   </td> <td>3733173</td> <td>3564493</td>\n",
       "        </tr>\n",
       "        <tr>\n",
       "            <td>1   </td> <td>0   </td> <td>1907982</td> <td>1821502</td>\n",
       "        </tr>\n",
       "        <tr>\n",
       "            <td>2   </td> <td>0   </td> <td>1825191</td> <td>1742991</td>\n",
       "        </tr>\n",
       "        <tr>\n",
       "            <td>0   </td> <td>1   </td> <td>3775586</td> <td>3702936</td>\n",
       "        </tr>\n",
       "        <tr>\n",
       "            <td>1   </td> <td>1   </td> <td>1928926</td> <td>1893355</td>\n",
       "        </tr>\n",
       "        <tr>\n",
       "            <td>2   </td> <td>1   </td> <td>1846660</td> <td>1809581</td>\n",
       "        </tr>\n",
       "        <tr>\n",
       "            <td>0   </td> <td>2   </td> <td>3871739</td> <td>3767428</td>\n",
       "        </tr>\n",
       "        <tr>\n",
       "            <td>1   </td> <td>2   </td> <td>1980392</td> <td>1923960</td>\n",
       "        </tr>\n",
       "        <tr>\n",
       "            <td>2   </td> <td>2   </td> <td>1891347</td> <td>1843468</td>\n",
       "        </tr>\n",
       "        <tr>\n",
       "            <td>0   </td> <td>3   </td> <td>3964565</td> <td>3856743</td>\n",
       "        </tr>\n",
       "    </tbody>\n",
       "</table>\n",
       "<p>... (296 rows omitted)</p>"
      ],
      "text/plain": [
       "SEX  | AGE  | 2020    | 2021\n",
       "0    | 0    | 3733173 | 3564493\n",
       "1    | 0    | 1907982 | 1821502\n",
       "2    | 0    | 1825191 | 1742991\n",
       "0    | 1    | 3775586 | 3702936\n",
       "1    | 1    | 1928926 | 1893355\n",
       "2    | 1    | 1846660 | 1809581\n",
       "0    | 2    | 3871739 | 3767428\n",
       "1    | 2    | 1980392 | 1923960\n",
       "2    | 2    | 1891347 | 1843468\n",
       "0    | 3    | 3964565 | 3856743\n",
       "... (296 rows omitted)"
      ]
     },
     "execution_count": 21,
     "metadata": {},
     "output_type": "execute_result"
    }
   ],
   "source": [
    "partial.sort('AGE') #1 and 2 represents male and female, 0 represents sum of male and female"
   ]
  },
  {
   "cell_type": "code",
   "execution_count": 22,
   "metadata": {},
   "outputs": [
    {
     "data": {
      "text/html": [
       "<table border=\"1\" class=\"dataframe\">\n",
       "    <thead>\n",
       "        <tr>\n",
       "            <th>SEX</th> <th>AGE</th> <th>2020</th> <th>2021</th>\n",
       "        </tr>\n",
       "    </thead>\n",
       "    <tbody>\n",
       "        <tr>\n",
       "            <td>0   </td> <td>999 </td> <td>331449281</td> <td>331893745</td>\n",
       "        </tr>\n",
       "        <tr>\n",
       "            <td>1   </td> <td>999 </td> <td>164192524</td> <td>164384742</td>\n",
       "        </tr>\n",
       "        <tr>\n",
       "            <td>2   </td> <td>999 </td> <td>167256757</td> <td>167509003</td>\n",
       "        </tr>\n",
       "        <tr>\n",
       "            <td>0   </td> <td>100 </td> <td>103442   </td> <td>97914    </td>\n",
       "        </tr>\n",
       "        <tr>\n",
       "            <td>1   </td> <td>100 </td> <td>24968    </td> <td>24487    </td>\n",
       "        </tr>\n",
       "        <tr>\n",
       "            <td>2   </td> <td>100 </td> <td>78474    </td> <td>73427    </td>\n",
       "        </tr>\n",
       "        <tr>\n",
       "            <td>0   </td> <td>99  </td> <td>58641    </td> <td>52579    </td>\n",
       "        </tr>\n",
       "        <tr>\n",
       "            <td>1   </td> <td>99  </td> <td>15569    </td> <td>13957    </td>\n",
       "        </tr>\n",
       "        <tr>\n",
       "            <td>2   </td> <td>99  </td> <td>43072    </td> <td>38622    </td>\n",
       "        </tr>\n",
       "        <tr>\n",
       "            <td>0   </td> <td>98  </td> <td>79367    </td> <td>78467    </td>\n",
       "        </tr>\n",
       "    </tbody>\n",
       "</table>\n",
       "<p>... (296 rows omitted)</p>"
      ],
      "text/plain": [
       "SEX  | AGE  | 2020      | 2021\n",
       "0    | 999  | 331449281 | 331893745\n",
       "1    | 999  | 164192524 | 164384742\n",
       "2    | 999  | 167256757 | 167509003\n",
       "0    | 100  | 103442    | 97914\n",
       "1    | 100  | 24968     | 24487\n",
       "2    | 100  | 78474     | 73427\n",
       "0    | 99   | 58641     | 52579\n",
       "1    | 99   | 15569     | 13957\n",
       "2    | 99   | 43072     | 38622\n",
       "0    | 98   | 79367     | 78467\n",
       "... (296 rows omitted)"
      ]
     },
     "execution_count": 22,
     "metadata": {},
     "output_type": "execute_result"
    }
   ],
   "source": [
    "partial.sort('AGE', descending = True) #999 means combined "
   ]
  },
  {
   "cell_type": "markdown",
   "metadata": {},
   "source": [
    "## Visualization ##"
   ]
  },
  {
   "cell_type": "code",
   "execution_count": 23,
   "metadata": {},
   "outputs": [],
   "source": [
    "no_999 = partial.where('AGE', are.below(999))"
   ]
  },
  {
   "cell_type": "code",
   "execution_count": 24,
   "metadata": {},
   "outputs": [
    {
     "data": {
      "text/html": [
       "<table border=\"1\" class=\"dataframe\">\n",
       "    <thead>\n",
       "        <tr>\n",
       "            <th>AGE</th> <th>2020</th> <th>2021</th>\n",
       "        </tr>\n",
       "    </thead>\n",
       "    <tbody>\n",
       "        <tr>\n",
       "            <td>0   </td> <td>3733173</td> <td>3564493</td>\n",
       "        </tr>\n",
       "        <tr>\n",
       "            <td>1   </td> <td>3775586</td> <td>3702936</td>\n",
       "        </tr>\n",
       "        <tr>\n",
       "            <td>2   </td> <td>3871739</td> <td>3767428</td>\n",
       "        </tr>\n",
       "        <tr>\n",
       "            <td>3   </td> <td>3964565</td> <td>3856743</td>\n",
       "        </tr>\n",
       "        <tr>\n",
       "            <td>4   </td> <td>4047488</td> <td>3935738</td>\n",
       "        </tr>\n",
       "        <tr>\n",
       "            <td>5   </td> <td>4076067</td> <td>4040153</td>\n",
       "        </tr>\n",
       "        <tr>\n",
       "            <td>6   </td> <td>4046735</td> <td>4076629</td>\n",
       "        </tr>\n",
       "        <tr>\n",
       "            <td>7   </td> <td>4052265</td> <td>4064596</td>\n",
       "        </tr>\n",
       "        <tr>\n",
       "            <td>8   </td> <td>4071358</td> <td>4051555</td>\n",
       "        </tr>\n",
       "        <tr>\n",
       "            <td>9   </td> <td>4112302</td> <td>4058615</td>\n",
       "        </tr>\n",
       "    </tbody>\n",
       "</table>\n",
       "<p>... (91 rows omitted)</p>"
      ],
      "text/plain": [
       "AGE  | 2020    | 2021\n",
       "0    | 3733173 | 3564493\n",
       "1    | 3775586 | 3702936\n",
       "2    | 3871739 | 3767428\n",
       "3    | 3964565 | 3856743\n",
       "4    | 4047488 | 3935738\n",
       "5    | 4076067 | 4040153\n",
       "6    | 4046735 | 4076629\n",
       "7    | 4052265 | 4064596\n",
       "8    | 4071358 | 4051555\n",
       "9    | 4112302 | 4058615\n",
       "... (91 rows omitted)"
      ]
     },
     "execution_count": 24,
     "metadata": {},
     "output_type": "execute_result"
    }
   ],
   "source": [
    "everyone = no_999.where('SEX', 0).drop('SEX') #drop sex because they'll all be the same value (0)\n",
    "everyone"
   ]
  },
  {
   "cell_type": "code",
   "execution_count": 29,
   "metadata": {},
   "outputs": [
    {
     "data": {
      "image/png": "[encoded data removed]",
      "text/plain": [
       "<Figure size 600x600 with 1 Axes>"
      ]
     },
     "metadata": {},
     "output_type": "display_data"
    }
   ],
   "source": [
    "everyone.plot('AGE', '2020')"
   ]
  },
  {
   "cell_type": "code",
   "execution_count": 26,
   "metadata": {},
   "outputs": [
    {
     "name": "stdout",
     "output_type": "stream",
     "text": [
      "Name: matplotlib-inline\n",
      "Version: 0.1.7\n",
      "Summary: Inline Matplotlib backend for Jupyter\n",
      "Home-page: https://github.com/ipython/matplotlib-inline\n",
      "Author: \n",
      "Author-email: IPython Development Team <ipython-dev@python.org>\n",
      "License: BSD 3-Clause License\n",
      "\n",
      "Copyright (c) 2019-2022, IPython Development Team.\n",
      "All rights reserved.\n",
      "\n",
      "Redistribution and use in source and binary forms, with or without\n",
      "modification, are permitted provided that the following conditions are met:\n",
      "\n",
      "1. Redistributions of source code must retain the above copyright notice, this\n",
      "   list of conditions and the following disclaimer.\n",
      "\n",
      "2. Redistributions in binary form must reproduce the above copyright notice,\n",
      "   this list of conditions and the following disclaimer in the documentation\n",
      "   and/or other materials provided with the distribution.\n",
      "\n",
      "3. Neither the name of the copyright holder nor the names of its\n",
      "   contributors may be used to endorse or promote products derived from\n",
      "   this software without specific prior written permission.\n",
      "\n",
      "THIS SOFTWARE IS PROVIDED BY THE COPYRIGHT HOLDERS AND CONTRIBUTORS \"AS IS\"\n",
      "AND ANY EXPRESS OR IMPLIED WARRANTIES, INCLUDING, BUT NOT LIMITED TO, THE\n",
      "IMPLIED WARRANTIES OF MERCHANTABILITY AND FITNESS FOR A PARTICULAR PURPOSE ARE\n",
      "DISCLAIMED. IN NO EVENT SHALL THE COPYRIGHT HOLDER OR CONTRIBUTORS BE LIABLE\n",
      "FOR ANY DIRECT, INDIRECT, INCIDENTAL, SPECIAL, EXEMPLARY, OR CONSEQUENTIAL\n",
      "DAMAGES (INCLUDING, BUT NOT LIMITED TO, PROCUREMENT OF SUBSTITUTE GOODS OR\n",
      "SERVICES; LOSS OF USE, DATA, OR PROFITS; OR BUSINESS INTERRUPTION) HOWEVER\n",
      "CAUSED AND ON ANY THEORY OF LIABILITY, WHETHER IN CONTRACT, STRICT LIABILITY,\n",
      "OR TORT (INCLUDING NEGLIGENCE OR OTHERWISE) ARISING IN ANY WAY OUT OF THE USE\n",
      "OF THIS SOFTWARE, EVEN IF ADVISED OF THE POSSIBILITY OF SUCH DAMAGE.\n",
      "\n",
      "Location: /opt/anaconda3/lib/python3.13/site-packages\n",
      "Requires: traitlets\n",
      "Required-by: ipykernel, ipython\n"
     ]
    }
   ],
   "source": [
    "# If your plot does not show, you may need to update matplotlib-inline\n",
    "!pip show matplotlib-inline"
   ]
  },
  {
   "cell_type": "code",
   "execution_count": 27,
   "metadata": {},
   "outputs": [
    {
     "name": "stdout",
     "output_type": "stream",
     "text": [
      "Requirement already satisfied: matplotlib-inline in /opt/anaconda3/lib/python3.13/site-packages (0.1.7)\n",
      "Requirement already satisfied: traitlets in /opt/anaconda3/lib/python3.13/site-packages (from matplotlib-inline) (5.14.3)\n",
      "Note: you may need to restart the kernel to use updated packages.\n"
     ]
    }
   ],
   "source": [
    "pip install matplotlib-inline --upgrade"
   ]
  },
  {
   "cell_type": "code",
   "execution_count": 31,
   "metadata": {},
   "outputs": [
    {
     "data": {
      "image/png": "[encoded data removed]",
      "text/plain": [
       "<Figure size 600x600 with 1 Axes>"
      ]
     },
     "metadata": {},
     "output_type": "display_data"
    }
   ],
   "source": [
    "everyone.plot('AGE') #plot this on horitontal, everything else on vertical"
   ]
  },
  {
   "cell_type": "markdown",
   "metadata": {},
   "source": [
    "## What proportion of each age group were female in 2020?"
   ]
  },
  {
   "cell_type": "code",
   "execution_count": null,
   "metadata": {},
   "outputs": [],
   "source": []
  },
  {
   "cell_type": "code",
   "execution_count": null,
   "metadata": {
    "tags": []
   },
   "outputs": [],
   "source": []
  }
 ],
 "metadata": {
  "anaconda-cloud": {},
  "kernelspec": {
   "display_name": "Python [conda env:base] *",
   "language": "python",
   "name": "conda-base-py"
  },
  "language_info": {
   "codemirror_mode": {
    "name": "ipython",
    "version": 3
   },
   "file_extension": ".py",
   "mimetype": "text/x-python",
   "name": "python",
   "nbconvert_exporter": "python",
   "pygments_lexer": "ipython3",
   "version": "3.13.5"
  }
 },
 "nbformat": 4,
 "nbformat_minor": 4
}
